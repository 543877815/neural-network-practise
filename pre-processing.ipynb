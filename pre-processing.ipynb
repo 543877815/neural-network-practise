{
 "cells": [
  {
   "cell_type": "code",
   "execution_count": 15,
   "metadata": {},
   "outputs": [],
   "source": [
    "# 分词\n",
    "# 词语 -> id\n",
    "# matrix -> [|V|, embed_size]\n",
    "# 词语A -> id(5)\n",
    "# 词表\n",
    "\n",
    "# label -> id\n",
    "\n",
    "import sys\n",
    "import os\n",
    "import jieba # pip install jieba\n",
    "\n",
    "# input file\n",
    "train_file = './data/cnews.train.txt'\n",
    "val_file = './data/cnews.val.txt'\n",
    "test_file = './data/cnews.test.txt'\n",
    "\n",
    "# output file\n",
    "seg_train_file = './data/cnews.train.seg.txt'\n",
    "seg_val_file = './data/cnews.val.seg.txt'\n",
    "seg_test_file = './data/cnews.test.seg.txt'\n",
    "\n",
    "vocab_file = './data/cnews.vocab.txt'\n",
    "category_file = './data/cnews.category.txt'"
   ]
  },
  {
   "cell_type": "code",
   "execution_count": 16,
   "metadata": {},
   "outputs": [
    {
     "name": "stdout",
     "output_type": "stream",
     "text": [
      "黄蜂vs湖人首发：科比带伤战保罗 加索尔救赎之战 新浪体育讯北京时间4月27日，NBA季后赛首轮洛杉矶湖人主场迎战新奥尔良黄蜂，此前的比赛中，双方战成2-2平，因此本场比赛对于两支球队来说都非常重要，赛前双方也公布了首发阵容：湖人队：费舍尔、科比、阿泰斯特、加索尔、拜纳姆黄蜂队：保罗、贝里内利、阿里扎、兰德里、奥卡福[新浪NBA官方微博][新浪NBA湖人新闻动态微博][新浪NBA专题][黄蜂vs湖人图文直播室](新浪体育)\n",
      "黄蜂/. vs/. 湖人/. 首发/. ：/. 科比/. 带伤/. 战/. 保罗/.  /. 加索尔/. 救赎/. 之战/.  /. 新浪/. 体育讯/. 北京/. 时间/. 4/. 月/. 27/. 日/. ，/. NBA/. 季后赛/. 首轮/. 洛杉矶/. 湖人/. 主场/. 迎战/. 新奥尔良/. 黄蜂/. ，/. 此前/. 的/. 比赛/. 中/. ，/. 双方/. 战成/. 2/. -/. 2/. 平/. ，/. 因此/. 本场/. 比赛/. 对于/. 两支/. 球队/. 来说/. 都/. 非常/. 重要/. ，/. 赛前/. 双方/. 也/. 公布/. 了/. 首发/. 阵容/. ：/. 湖人队/. ：/. 费舍尔/. 、/. 科比/. 、/. 阿泰斯特/. 、/. 加索尔/. 、/. 拜纳姆/. 黄蜂队/. ：/. 保罗/. 、/. 贝里/. 内利/. 、/. 阿里/. 扎/. 、/. 兰德/. 里/. 、/. 奥卡福/. [/. 新浪/. NBA/. 官方/. 微博/. ]/. [/. 新浪/. NBA/. 湖人/. 新闻动态/. 微博/. ]/. [/. 新浪/. NBA/. 专题/. ]/. [/. 黄蜂/. vs/. 湖人/. 图文/. 直播室/. ]/. (/. 新浪/. 体育/. )\n"
     ]
    }
   ],
   "source": [
    "with open(val_file, 'r') as f:\n",
    "    lines = f.readlines()\n",
    "\n",
    "label, content = lines[0].strip('\\r\\n').split('\\t')\n",
    "word_iter = jieba.cut(content)\n",
    "\n",
    "print(content)\n",
    "print('/. '.join(word_iter))"
   ]
  },
  {
   "cell_type": "code",
   "execution_count": 11,
   "metadata": {},
   "outputs": [],
   "source": [
    "def generate_seg_file(input_file, output_seg_file):\n",
    "    \"\"\"Segment the sentences in each line in input_file\"\"\"\n",
    "    with open(input_file, 'r') as f:\n",
    "        lines = f.readlines()\n",
    "    with open(output_seg_file, 'w') as f:\n",
    "        for line in lines:\n",
    "            label, content = line.strip('\\r\\n').split('\\t')\n",
    "            word_iter = jieba.cut(content)\n",
    "            word_content = ''\n",
    "            for word in word_iter:\n",
    "                word = word.strip(' ')\n",
    "                if word != '':\n",
    "                    word_content += word + ' '\n",
    "            out_line = '%s\\t%s\\n' % (label, word_content.strip(' '))\n",
    "            f.write(out_line)\n",
    "\n",
    "generate_seg_file(train_file, seg_train_file)\n",
    "generate_seg_file(test_file, seg_test_file)\n",
    "generate_seg_file(val_file, seg_val_file)"
   ]
  },
  {
   "cell_type": "code",
   "execution_count": 19,
   "metadata": {},
   "outputs": [],
   "source": [
    "def generate_vocab_file(input_seg_file, output_vocab_file):\n",
    "    with open(input_seg_file, 'r') as f:\n",
    "        lines = f.readlines()\n",
    "    word_dict = {}\n",
    "    for line in lines:\n",
    "        label, content = line.strip('\\r\\n').split('\\t')\n",
    "        # 统计词频\n",
    "        for word in content.split():\n",
    "            word_dict.setdefault(word, 0)\n",
    "            word_dict[word] += 1\n",
    "    # [(word, frequency), ..., ()]\n",
    "    sorted_word_dict = sorted(word_dict.items(), key = lambda d:d[1], reverse=True)\n",
    "    with open(output_vocab_file, 'w') as f:\n",
    "        f.write('<UNK>\\t10000000\\n')\n",
    "        for item in sorted_word_dict:\n",
    "            f.write('%s\\t%d\\n' % (item[0], item[1]))\n",
    "\n",
    "generate_vocab_file(seg_train_file, vocab_file)"
   ]
  },
  {
   "cell_type": "code",
   "execution_count": 22,
   "metadata": {},
   "outputs": [
    {
     "name": "stdout",
     "output_type": "stream",
     "text": [
      "体育\t5000\n",
      "娱乐\t5000\n",
      "家居\t5000\n",
      "房产\t5000\n",
      "教育\t5000\n",
      "时尚\t5000\n",
      "时政\t5000\n",
      "游戏\t5000\n",
      "科技\t5000\n",
      "财经\t5000\n"
     ]
    }
   ],
   "source": [
    "def generate_category_dict(input_file, category_file):\n",
    "    with open(input_file, 'r') as f:\n",
    "        lines = f.readlines()\n",
    "    category_dict = {}\n",
    "    for line in lines:\n",
    "        label, content = line.strip('\\r\\n').split('\\t')\n",
    "        category_dict.setdefault(label, 0)\n",
    "        category_dict[label] += 1\n",
    "    category_number = len(category_dict)\n",
    "    with open(category_file, 'w') as f:\n",
    "        for category in category_dict:\n",
    "            line = '%s\\n' % category\n",
    "            print('%s\\t%d' % (category, category_dict[category]))\n",
    "            f.write(line)\n",
    "\n",
    "generate_category_dict(train_file, category_file)"
   ]
  },
  {
   "cell_type": "code",
   "execution_count": null,
   "metadata": {},
   "outputs": [],
   "source": []
  }
 ],
 "metadata": {
  "kernelspec": {
   "display_name": "Python 3",
   "language": "python",
   "name": "python3"
  },
  "language_info": {
   "codemirror_mode": {
    "name": "ipython",
    "version": 3
   },
   "file_extension": ".py",
   "mimetype": "text/x-python",
   "name": "python",
   "nbconvert_exporter": "python",
   "pygments_lexer": "ipython3",
   "version": "3.7.3"
  }
 },
 "nbformat": 4,
 "nbformat_minor": 2
}
