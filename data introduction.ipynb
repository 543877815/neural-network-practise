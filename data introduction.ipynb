{
 "cells": [
  {
   "cell_type": "code",
   "execution_count": 2,
   "metadata": {},
   "outputs": [],
   "source": [
    "import tensorflow"
   ]
  },
  {
   "cell_type": "code",
   "execution_count": 4,
   "metadata": {},
   "outputs": [
    {
     "name": "stdout",
     "output_type": "stream",
     "text": [
      "1.14.0\n"
     ]
    }
   ],
   "source": [
    "print(tensorflow.__version__)"
   ]
  },
  {
   "cell_type": "code",
   "execution_count": 9,
   "metadata": {},
   "outputs": [],
   "source": [
    "import pickle\n",
    "import numpy as np\n",
    "import os"
   ]
  },
  {
   "cell_type": "code",
   "execution_count": 10,
   "metadata": {},
   "outputs": [
    {
     "name": "stdout",
     "output_type": "stream",
     "text": [
      "['batches.meta', 'data_batch_1', 'data_batch_2', 'data_batch_3', 'data_batch_4', 'data_batch_5', 'readme.html', 'test_batch']\n"
     ]
    }
   ],
   "source": [
    "CIFAR_DIR = './cifar-10-batches-py'\n",
    "print(os.listdir(CIFAR_DIR))"
   ]
  },
  {
   "cell_type": "code",
   "execution_count": 28,
   "metadata": {},
   "outputs": [
    {
     "name": "stdout",
     "output_type": "stream",
     "text": [
      "<class 'dict'>\n",
      "dict_keys([b'batch_label', b'labels', b'data', b'filenames'])\n",
      "<class 'numpy.ndarray'>\n",
      "<class 'list'>\n",
      "<class 'bytes'>\n",
      "<class 'list'>\n",
      "(10000, 3072)\n",
      "[[ 59  43  50 ... 140  84  72]\n",
      " [154 126 105 ... 139 142 144]]\n",
      "[6, 9]\n",
      "b'training batch 1 of 5'\n",
      "[b'leptodactylus_pentadactylus_s_000004.png', b'camion_s_000148.png']\n"
     ]
    }
   ],
   "source": [
    "with open (os.path.join(CIFAR_DIR, \"data_batch_1\"), \"rb\") as f:\n",
    "    data = pickle.load(f,encoding='bytes')\n",
    "    print(type(data))\n",
    "    print(data.keys())\n",
    "    print(type(data[b'data']))\n",
    "    print(type(data[b'labels']))\n",
    "    print(type(data[b'batch_label']))\n",
    "    print(type(data[b'filenames']))\n",
    "    print(data[b'data'].shape)\n",
    "    print(data[b'data'][0:2])\n",
    "    print(data[b'labels'][0:2])\n",
    "    print(data[b'batch_label'])\n",
    "    print(data[b'filenames'][0:2])\n",
    "    \n",
    "# 32 * 32 = 1024 * 3 = 3072\n",
    "# RR-GG-BB = 3072"
   ]
  },
  {
   "cell_type": "code",
   "execution_count": 31,
   "metadata": {},
   "outputs": [],
   "source": [
    "image_arr = data[b'data'][100]\n",
    "image_arr = image_arr.reshape((3,32,32))\n",
    "image_arr = image_arr.transpose((1,2,0))"
   ]
  },
  {
   "cell_type": "code",
   "execution_count": 34,
   "metadata": {},
   "outputs": [
    {
     "data": {
      "text/plain": [
       "<matplotlib.image.AxesImage at 0x1ab005b0908>"
      ]
     },
     "execution_count": 34,
     "metadata": {},
     "output_type": "execute_result"
    },
    {
     "data": {
      "image/png": "[encoded data removed]",
      "text/plain": [
       "<Figure size 432x288 with 1 Axes>"
      ]
     },
     "metadata": {
      "needs_background": "light"
     },
     "output_type": "display_data"
    }
   ],
   "source": [
    "import matplotlib.pyplot as plt\n",
    "from matplotlib.pyplot import imshow \n",
    "%matplotlib inline \n",
    "\n",
    "imshow(image_arr)"
   ]
  },
  {
   "cell_type": "code",
   "execution_count": null,
   "metadata": {},
   "outputs": [],
   "source": []
  }
 ],
 "metadata": {
  "kernelspec": {
   "display_name": "Python [conda env:deep_learning]",
   "language": "python",
   "name": "deep_learning"
  },
  "language_info": {
   "codemirror_mode": {
    "name": "ipython",
    "version": 3
   },
   "file_extension": ".py",
   "mimetype": "text/x-python",
   "name": "python",
   "nbconvert_exporter": "python",
   "pygments_lexer": "ipython3",
   "version": "3.7.3"
  }
 },
 "nbformat": 4,
 "nbformat_minor": 2
}
