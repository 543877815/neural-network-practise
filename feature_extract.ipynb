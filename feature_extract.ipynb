{
 "cells": [
  {
   "cell_type": "code",
   "execution_count": 32,
   "metadata": {},
   "outputs": [
    {
     "name": "stdout",
     "output_type": "stream",
     "text": [
      "['1000092795.jpg',\n",
      " '10002456.jpg',\n",
      " '1000268201.jpg',\n",
      " '1000344755.jpg',\n",
      " '1000366164.jpg',\n",
      " '1000523639.jpg',\n",
      " '1000919630.jpg',\n",
      " '10010052.jpg',\n",
      " '1001465944.jpg',\n",
      " '1001545525.jpg']\n",
      "['A man in jeans is reclining on a green metal bench along a busy sidewalk and '\n",
      " 'crowded street .',\n",
      " 'A white male with a blue sweater and gray pants laying on a sidewalk bench .',\n",
      " 'A man in a blue shirt and gray pants is sleeping on a sidewalk bench .',\n",
      " 'A person is sleeping on a bench , next to cars .',\n",
      " 'A man sleeping on a bench in a city area .']\n"
     ]
    }
   ],
   "source": [
    "import os\n",
    "import sys\n",
    "import tensorflow as tf\n",
    "from tensorflow import gfile\n",
    "from tensorflow import logging\n",
    "import pprint\n",
    "import pickle\n",
    "import numpy as np\n",
    "\n",
    "model_file = './inception_v3/inception_v3_graph_def.pb'\n",
    "input_description_file = './flickr30k/results_20130124.token'\n",
    "input_img_dir = './flickr30k/flickr30k-images/'\n",
    "output_folder = './download_inception_v3_features/'\n",
    "\n",
    "batch_size = 1000\n",
    "\n",
    "if not gfile.Exists(output_file):\n",
    "    gfile.MakeDirs(output_file)\n",
    "    \n",
    "def parse_token_file(token_file):\n",
    "    \"\"\"Parses images description file.\"\"\"\n",
    "    img_name_to_tokens = {}\n",
    "    with gfile.GFile(token_file, 'r') as f:\n",
    "        lines = f.readlines()\n",
    "        \n",
    "    for line in lines:\n",
    "        img_id, description = line.strip('\\r\\n').split('\\t')\n",
    "        img_name, _ = img_id.split('#')\n",
    "        img_name_to_tokens.setdefault(img_name, [])\n",
    "        img_name_to_tokens[img_name].append(description)\n",
    "    return img_name_to_tokens\n",
    "\n",
    "img_name_to_tokens = parse_token_file(input_description_file)\n",
    "all_img_names = list(img_name_to_tokens.keys())\n",
    "\n",
    "logging.info(\"num of all images: %d\" % len(all_img_names))\n",
    "pprint.pprint(all_img_names[0:10])\n",
    "pprint.pprint(img_name_to_tokens['2778832101.jpg'])"
   ]
  },
  {
   "cell_type": "code",
   "execution_count": 33,
   "metadata": {},
   "outputs": [],
   "source": [
    "def load_pretrained_inception_v3(model_file):\n",
    "    with gfile.FastGFile(model_file, 'rb') as f:\n",
    "        graph_def = tf.GraphDef()\n",
    "        graph_def.ParseFromString(f.read())\n",
    "        _ = tf.import_graph_def(graph_def, name=\"\")\n",
    "\n",
    "load_pretrained_inception_v3(model_file)"
   ]
  },
  {
   "cell_type": "code",
   "execution_count": 35,
   "metadata": {},
   "outputs": [],
   "source": [
    "num_batches = int(len(all_img_names) / batch_size) \n",
    "if(len(all_img_names) % batch_size) != 0:\n",
    "    num_batches += 1\n",
    "    \n",
    "with tf.Session() as sess:\n",
    "    second_to_last_tensor = sess.graph.get_tensor_by_name(\"pool_3:0\")\n",
    "    for i in range(num_batches):\n",
    "        batch_img_names = all_img_names[i*batch_size: (i+1)*batch_size]\n",
    "        batch_features = []\n",
    "        for img_name in batch_img_names:\n",
    "            img_path = os.path.join(input_img_dir, img_name)\n",
    "            logging.info(\"processing img %s\" % img_name)\n",
    "            if not gfile.Exists(img_path):\n",
    "                continue\n",
    "            img_data = gfile.FastGFile(img_path, \"rb\").read()\n",
    "            feature_vector = sess.run(second_to_last_tensor,\n",
    "                                       feed_dict={\n",
    "                                           \"DecodeJpeg/contents:0\":img_data\n",
    "                                       })\n",
    "            batch_features.append(feature_vector)\n",
    "        batch_features = np.vstack(batch_features)\n",
    "        output_filename = os.path.join(\n",
    "            output_folder,\n",
    "            \"image_feature-%d.pickle\" % i\n",
    "        )\n",
    "        logging.info(\"writing to file %s\" % output_filename)\n",
    "        with gfile.GFile(output_filename, 'w') as f:\n",
    "            pickle.dump((batch_img_names, batch_features), f)"
   ]
  },
  {
   "cell_type": "code",
   "execution_count": null,
   "metadata": {},
   "outputs": [],
   "source": []
  },
  {
   "cell_type": "code",
   "execution_count": null,
   "metadata": {},
   "outputs": [],
   "source": []
  }
 ],
 "metadata": {
  "kernelspec": {
   "display_name": "Python [conda env:deep_learning]",
   "language": "python",
   "name": "deep_learning"
  },
  "language_info": {
   "codemirror_mode": {
    "name": "ipython",
    "version": 3
   },
   "file_extension": ".py",
   "mimetype": "text/x-python",
   "name": "python",
   "nbconvert_exporter": "python",
   "pygments_lexer": "ipython3",
   "version": "3.7.3"
  }
 },
 "nbformat": 4,
 "nbformat_minor": 2
}
