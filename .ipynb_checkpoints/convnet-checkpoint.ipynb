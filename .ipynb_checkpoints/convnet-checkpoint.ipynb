{
 "cells": [
  {
   "cell_type": "code",
   "execution_count": 1,
   "metadata": {},
   "outputs": [
    {
     "name": "stdout",
     "output_type": "stream",
     "text": [
      "['batches.meta', 'data_batch_1', 'data_batch_2', 'data_batch_3', 'data_batch_4', 'data_batch_5', 'readme.html', 'test_batch']\n"
     ]
    }
   ],
   "source": [
    "import tensorflow as tf\n",
    "import pickle\n",
    "import numpy as np\n",
    "import os\n",
    "\n",
    "CIFAR_DIR = './cifar-10-batches-py'\n",
    "print(os.listdir(CIFAR_DIR))"
   ]
  },
  {
   "cell_type": "code",
   "execution_count": 2,
   "metadata": {},
   "outputs": [
    {
     "name": "stdout",
     "output_type": "stream",
     "text": [
      "(50000, 3072) (50000,)\n",
      "(10000, 3072) (10000,)\n",
      "[[-0.95294118 -0.95294118 -0.95294118 ... -0.67843137 -0.33333333\n",
      "  -0.33333333]\n",
      " [ 0.74117647  0.68627451  0.65490196 ...  0.6627451   0.67843137\n",
      "   0.69411765]\n",
      " [ 0.05882353  0.06666667  0.04313725 ... -0.40392157 -0.34117647\n",
      "  -0.30980392]\n",
      " ...\n",
      " [-0.28627451 -0.34901961 -0.48235294 ... -0.68627451 -0.50588235\n",
      "  -0.34901961]\n",
      " [-0.05098039 -0.05098039 -0.05098039 ... -0.34117647 -0.3254902\n",
      "  -0.33333333]\n",
      " [ 0.27843137  0.09019608  0.2627451  ...  0.36470588  0.3254902\n",
      "   0.19215686]] [3 4 4 6 4 6 8 4 3 2]\n"
     ]
    }
   ],
   "source": [
    "def load_data(filename):\n",
    "    \"\"\"read data from data file.\"\"\"\n",
    "    with open (filename, \"rb\") as f:\n",
    "        data = pickle.load(f,encoding='bytes')\n",
    "        return data[b'data'], data[b'labels']\n",
    "    \n",
    "class CifarData:\n",
    "    def __init__(self, filenames, need_shuffle):\n",
    "        all_data = []\n",
    "        all_labels = []\n",
    "        for filename in filenames:\n",
    "            data, labels = load_data(filename)\n",
    "            all_data.append(data)\n",
    "            all_labels.append(labels)\n",
    "        self._data = np.vstack(all_data)\n",
    "        self._data = self._data / 127.5 -1 # 归一化\n",
    "        self._labels = np.hstack(all_labels)\n",
    "        print(self._data.shape, self._labels.shape)\n",
    "        self._num_examples = self._data.shape[0]\n",
    "        self._need_shuffle = need_shuffle\n",
    "        self._indicator = 0 ## 遍历起始位置\n",
    "        if self._need_shuffle:\n",
    "            self._shuffle_data()\n",
    "    \n",
    "    def _shuffle_data(self):\n",
    "        # [0, 1, 2, 3, 4, 5] -> [5, 3, 2, 4, 0 ,1]\n",
    "        p = np.random.permutation(self._num_examples)\n",
    "        self._data = self._data[p]\n",
    "        self._labels = self._labels[p]\n",
    "    \n",
    "    def next_batch(self, batch_size):\n",
    "        \"\"\"return batch_size examples as a batch.\"\"\"\n",
    "        end_indicator = self._indicator + batch_size\n",
    "        if end_indicator > self._num_examples:\n",
    "            if self._need_shuffle:\n",
    "                self._shuffle_data()\n",
    "                self._indicator = 0 \n",
    "                end_indicator = batch_size\n",
    "            else:\n",
    "                raise Exception(\"have no more example\")\n",
    "        \n",
    "        if end_indicator > self._num_examples:\n",
    "            raise Exception(\"batch size is larger than all examples\")\n",
    "        batch_data = self._data[self._indicator: end_indicator]    \n",
    "        batch_labels = self._labels[self._indicator: end_indicator]\n",
    "        self._indicator = end_indicator\n",
    "        return batch_data, batch_labels\n",
    "    \n",
    "train_filenames = [os.path.join(CIFAR_DIR, 'data_batch_%d' % i) for i in range(1,6)]\n",
    "test_filenames = [os.path.join(CIFAR_DIR, 'test_batch')]\n",
    "\n",
    "train_data = CifarData(train_filenames, True)\n",
    "test_data = CifarData(test_filenames, False)\n",
    "\n",
    "batch_data, batch_labels = train_data.next_batch(10)\n",
    "print(batch_data, batch_labels)"
   ]
  },
  {
   "cell_type": "code",
   "execution_count": 4,
   "metadata": {},
   "outputs": [
    {
     "name": "stderr",
     "output_type": "stream",
     "text": [
      "WARNING: Logging before flag parsing goes to stderr.\n",
      "W0712 21:15:34.628849  8980 deprecation.py:323] From <ipython-input-4-606fb10fe4cd>:16: conv2d (from tensorflow.python.layers.convolutional) is deprecated and will be removed in a future version.\n",
      "Instructions for updating:\n",
      "Use `tf.keras.layers.Conv2D` instead.\n",
      "W0712 21:15:34.634834  8980 deprecation.py:506] From D:\\anaconda3\\envs\\deep_learning\\lib\\site-packages\\tensorflow\\python\\ops\\init_ops.py:1251: calling VarianceScaling.__init__ (from tensorflow.python.ops.init_ops) with dtype is deprecated and will be removed in a future version.\n",
      "Instructions for updating:\n",
      "Call initializer instance with the dtype argument instead of passing it to the constructor\n",
      "W0712 21:15:35.415744  8980 deprecation.py:323] From <ipython-input-4-606fb10fe4cd>:21: max_pooling2d (from tensorflow.python.layers.pooling) is deprecated and will be removed in a future version.\n",
      "Instructions for updating:\n",
      "Use keras.layers.MaxPooling2D instead.\n",
      "W0712 21:15:35.977980  8980 deprecation.py:323] From <ipython-input-4-606fb10fe4cd>:46: flatten (from tensorflow.python.layers.core) is deprecated and will be removed in a future version.\n",
      "Instructions for updating:\n",
      "Use keras.layers.flatten instead.\n",
      "W0712 21:15:36.418804  8980 deprecation.py:323] From <ipython-input-4-606fb10fe4cd>:47: dense (from tensorflow.python.layers.core) is deprecated and will be removed in a future version.\n",
      "Instructions for updating:\n",
      "Use keras.layers.dense instead.\n",
      "W0712 21:15:36.805783  8980 deprecation.py:323] From D:\\anaconda3\\envs\\deep_learning\\lib\\site-packages\\tensorflow\\python\\ops\\losses\\losses_impl.py:121: add_dispatch_support.<locals>.wrapper (from tensorflow.python.ops.array_ops) is deprecated and will be removed in a future version.\n",
      "Instructions for updating:\n",
      "Use tf.where in 2.0, which has the same broadcast rule as np.where\n"
     ]
    }
   ],
   "source": [
    "x = tf.placeholder(tf.float32, [None, 3072])\n",
    "\n",
    "# [None], eg: [0,6,5,3]\n",
    "y = tf.placeholder(tf.int64, [None])\n",
    "\n",
    "x_image = tf.reshape(x, [-1, 3, 32, 32])\n",
    "# 32*32\n",
    "x_image = tf.transpose(x_image, perm=[0, 2, 3, 1])\n",
    "\n",
    "# 神经元图， feature_map, 输出图像\n",
    "# acc: 0.66250\n",
    "conv1 = tf.layers.conv2d(x_image,\n",
    "                        32, # output channel number\n",
    "                        (3,3), # kernel size\n",
    "                        padding = 'same', \n",
    "                        activation=tf.nn.relu,\n",
    "                        name='conv1')\n",
    "# 16 * 16\n",
    "pooling1 = tf.layers.max_pooling2d(conv1,\n",
    "                                  (2,2), # kernel size\n",
    "                                  (2,2), # stride\n",
    "                                  name='pool1')\n",
    "conv2 = tf.layers.conv2d(pooling1,\n",
    "                        32, # output channel number\n",
    "                        (3,3), # kernel size\n",
    "                        padding = 'same', \n",
    "                        activation=tf.nn.relu,\n",
    "                        name='conv2')\n",
    "# 8 * 8\n",
    "pooling2 = tf.layers.max_pooling2d(conv2,\n",
    "                                  (2,2), # kernel size\n",
    "                                  (2,2), # stride\n",
    "                                  name='pool2')\n",
    "conv3 = tf.layers.conv2d(pooling2,\n",
    "                        32, # output channel number\n",
    "                        (3,3), # kernel size\n",
    "                        padding = 'same', \n",
    "                        activation=tf.nn.relu,\n",
    "                        name='conv3')\n",
    "# 4 * 4 * 32\n",
    "pooling3 = tf.layers.max_pooling2d(conv3,\n",
    "                                  (2,2), # kernel size\n",
    "                                  (2,2), # stride\n",
    "                                  name='pool3')\n",
    "\n",
    "# [None, 4 * 4 * 32]\n",
    "flatten = tf.layers.flatten(pooling3)\n",
    "y_ = tf.layers.dense(flatten, 10)\n",
    "\n",
    "loss = tf.losses.sparse_softmax_cross_entropy(labels=y,logits=y_)\n",
    "# y_ -> softmax\n",
    "# y -> one_hot\n",
    "#loss = ylog_\n",
    "\n",
    "# indices\n",
    "predict = tf.argmax(y_, 1)\n",
    "# [1,0,1,0]\n",
    "correct_prediction = tf.equal(predict, y)\n",
    "accuracy= tf.reduce_mean(tf.cast(correct_prediction, tf.float64))\n",
    "\n",
    "with tf.name_scope('train_op'):\n",
    "    train_op = tf.train.AdamOptimizer(1e-3).minimize(loss)"
   ]
  },
  {
   "cell_type": "code",
   "execution_count": 5,
   "metadata": {},
   "outputs": [
    {
     "name": "stdout",
     "output_type": "stream",
     "text": [
      "[Train] step: 0, loss: 2.26145, acc:0.15000\n",
      "(10000, 3072) (10000,)\n",
      "[Test] Step: 1, acc: 0.11000\n",
      "[Train] step: 500, loss: 1.47176, acc:0.55000\n",
      "[Train] step: 1000, loss: 1.75475, acc:0.45000\n",
      "[Train] step: 1500, loss: 1.39027, acc:0.45000\n",
      "[Train] step: 2000, loss: 1.76365, acc:0.35000\n",
      "[Train] step: 2500, loss: 1.02802, acc:0.70000\n",
      "[Train] step: 3000, loss: 1.38514, acc:0.35000\n",
      "[Train] step: 3500, loss: 0.98169, acc:0.65000\n",
      "[Train] step: 4000, loss: 1.21868, acc:0.45000\n",
      "[Train] step: 4500, loss: 1.01583, acc:0.70000\n",
      "[Train] step: 5000, loss: 0.95024, acc:0.65000\n",
      "(10000, 3072) (10000,)\n",
      "[Test] Step: 5001, acc: 0.66250\n",
      "[Train] step: 5500, loss: 0.66365, acc:0.80000\n",
      "[Train] step: 6000, loss: 1.24986, acc:0.60000\n",
      "[Train] step: 6500, loss: 0.49257, acc:0.90000\n",
      "[Train] step: 7000, loss: 0.86693, acc:0.70000\n",
      "[Train] step: 7500, loss: 0.60420, acc:0.70000\n",
      "[Train] step: 8000, loss: 1.04817, acc:0.60000\n",
      "[Train] step: 8500, loss: 0.61023, acc:0.80000\n",
      "[Train] step: 9000, loss: 0.81392, acc:0.70000\n",
      "[Train] step: 9500, loss: 0.50668, acc:0.80000\n"
     ]
    }
   ],
   "source": [
    "init = tf.global_variables_initializer()\n",
    "batch_size = 20\n",
    "train_steps = 10000\n",
    "test_steps =100\n",
    "\n",
    "with tf.Session() as sess:\n",
    "    sess.run(init)\n",
    "    for i in range(train_steps):\n",
    "        batch_data, batch_labels = train_data.next_batch(batch_size)\n",
    "        loss_val, accu_val, _ = sess.run(\n",
    "            [loss, accuracy, train_op], \n",
    "            feed_dict={\n",
    "                x: batch_data,\n",
    "                y: batch_labels})\n",
    "        if i % 500 == 0:\n",
    "            print('[Train] step: %d, loss: %4.5f, acc:%4.5f'% (i, loss_val, accu_val)) \n",
    "        if i % 5000 == 0:\n",
    "            test_data = CifarData(test_filenames, False)\n",
    "            \n",
    "            all_test_acc_val = []\n",
    "            \n",
    "            for j in range(test_steps):\n",
    "                test_batch_data, test_batch_labels = test_data.next_batch(batch_size)\n",
    "                test_acc_val = sess.run([accuracy],\n",
    "                                       feed_dict={\n",
    "                                           x: test_batch_data,\n",
    "                                           y: test_batch_labels\n",
    "                                       })\n",
    "                all_test_acc_val.append(test_acc_val)\n",
    "            test_acc = np.mean(all_test_acc_val)\n",
    "            print('[Test] Step: %d, acc: %4.5f'%(i+1, test_acc)) "
   ]
  },
  {
   "cell_type": "code",
   "execution_count": 6,
   "metadata": {},
   "outputs": [
    {
     "name": "stdout",
     "output_type": "stream",
     "text": [
      "[Test] Step: 10000, acc: 0.66250\n"
     ]
    }
   ],
   "source": [
    "print('[Test] Step: %d, acc: %4.5f'%(i+1, test_acc)) "
   ]
  },
  {
   "cell_type": "code",
   "execution_count": null,
   "metadata": {},
   "outputs": [],
   "source": []
  }
 ],
 "metadata": {
  "kernelspec": {
   "display_name": "Python [conda env:deep_learning]",
   "language": "python",
   "name": "conda-env-deep_learning-py"
  },
  "language_info": {
   "codemirror_mode": {
    "name": "ipython",
    "version": 3
   },
   "file_extension": ".py",
   "mimetype": "text/x-python",
   "name": "python",
   "nbconvert_exporter": "python",
   "pygments_lexer": "ipython3",
   "version": "3.7.3"
  }
 },
 "nbformat": 4,
 "nbformat_minor": 2
}
